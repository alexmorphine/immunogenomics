{
 "cells": [
  {
   "cell_type": "code",
   "execution_count": 6,
   "metadata": {},
   "outputs": [],
   "source": [
    "import pandas as pd\n",
    "import os"
   ]
  },
  {
   "cell_type": "code",
   "execution_count": 8,
   "metadata": {},
   "outputs": [],
   "source": [
    "def nice_data(path, name):\n",
    "    \n",
    "    filename = f'shm_details_{name}.txt'\n",
    "    filename = os.path.join(path, filename)\n",
    "    # тут заголовки из 0 строчки файла будут\n",
    "    header = None\n",
    "\n",
    "    # тут будут лежать строчки для будущего датафрейма\n",
    "    reads = []\n",
    "\n",
    "    # тест на наличие доп. полей в строчках с названиями ридов\n",
    "    additional_info = set()\n",
    "\n",
    "    # текущая строчка тут будет\n",
    "    new_read = []\n",
    "\n",
    "    with open(filename) as f:\n",
    "\n",
    "        # по каждой строке файла\n",
    "        for line in f:\n",
    "\n",
    "            # если у нас 0 строчка (header == None в этот момент)\n",
    "            if not header:\n",
    "                # то записываем в него названия колонок из файла\n",
    "                header = line.strip().split('\\t')\n",
    "\n",
    "            # если у нас трочка с названием\n",
    "            elif line.startswith('Read_name'):\n",
    "\n",
    "                # будем сюда писать значения полей из строчки\n",
    "                new_read_title = []\n",
    "\n",
    "                # разбили ее по табам, но сейчас значения в массиве типа Read_length:358\n",
    "                split_line = line.strip().split('\\t')\n",
    "\n",
    "                # поэтому пройдемся по ним циклом\n",
    "                for part in split_line:\n",
    "\n",
    "                    # разделим по :, получим, например ['Read_length', '358']\n",
    "                    column, value = part.split(':')\n",
    "\n",
    "                    # запишем в массив, где значения полей текушей последовательности\n",
    "                    new_read_title.append(value)\n",
    "\n",
    "                    # на всякий добавим поля из строки в сет, чтобы проверить, что мы учли все\n",
    "                    # и внезапно не всплывет в середине файла что-то левое\n",
    "                    additional_info.add(column)\n",
    "\n",
    "            # если у нас строчка с данными\n",
    "            else:\n",
    "\n",
    "                # делим ее по табам\n",
    "                new_read = line.strip().split('\\t')\n",
    "\n",
    "                # записываем в reads объединение массива с названием и со строчкой\n",
    "                reads.append(new_read_title + new_read)\n",
    "    # создаем датафрейм\n",
    "    data = pd.DataFrame(data=reads, columns=['Read_name', 'Read_length', 'Gene_name', \n",
    "                                             'Gene_length', 'Segment', 'Chain_type'] + header)\n",
    "    \n",
    "    output_name = os.path.join(path, f'nice_data_{name}.csv')\n",
    "    data.to_csv(output_name, index=False)\n",
    "    \n",
    "    # лень преобразовывать в инты, поэтому просто считаю, а пандас сам определит их интами)))\n",
    "    data = pd.read_csv(output_name)\n",
    "    \n",
    "    # отдельная колонка для генов без аллелей\n",
    "    data['Gene_no_allele'] = data.Gene_name.str.split('*').str[0]"
   ]
  },
  {
   "cell_type": "code",
   "execution_count": 16,
   "metadata": {},
   "outputs": [],
   "source": [
    "name = 'plasma'\n",
    "path = f'HW1_immuno/{name}'"
   ]
  },
  {
   "cell_type": "code",
   "execution_count": 17,
   "metadata": {
    "scrolled": true
   },
   "outputs": [],
   "source": [
    "nice_data(path, name)"
   ]
  },
  {
   "cell_type": "code",
   "execution_count": 35,
   "metadata": {},
   "outputs": [],
   "source": []
  }
 ],
 "metadata": {
  "kernelspec": {
   "display_name": "Python 3",
   "language": "python",
   "name": "python3"
  },
  "language_info": {
   "codemirror_mode": {
    "name": "ipython",
    "version": 3
   },
   "file_extension": ".py",
   "mimetype": "text/x-python",
   "name": "python",
   "nbconvert_exporter": "python",
   "pygments_lexer": "ipython3",
   "version": "3.6.7"
  }
 },
 "nbformat": 4,
 "nbformat_minor": 4
}
