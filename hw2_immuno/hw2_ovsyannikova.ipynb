{
 "cells": [
  {
   "cell_type": "code",
   "execution_count": 1,
   "metadata": {},
   "outputs": [],
   "source": [
    "import pandas as pd\n",
    "import networkx as nx\n",
    "import seaborn as sns\n",
    "import matplotlib.pyplot as plt\n",
    "from Bio.SeqIO import SeqRecord\n",
    "from Bio.Seq import Seq"
   ]
  },
  {
   "cell_type": "markdown",
   "metadata": {},
   "source": [
    "# 1"
   ]
  },
  {
   "cell_type": "code",
   "execution_count": 2,
   "metadata": {},
   "outputs": [],
   "source": [
    "# using IgBlast results\n",
    "cdr = pd.read_csv('igblast.txt', sep='\\t')"
   ]
  },
  {
   "cell_type": "code",
   "execution_count": 3,
   "metadata": {},
   "outputs": [],
   "source": [
    "cdr.v_call = cdr.v_call.str.split(',').str[0].str.split('*').str[0]"
   ]
  },
  {
   "cell_type": "markdown",
   "metadata": {},
   "source": [
    "# 2"
   ]
  },
  {
   "cell_type": "code",
   "execution_count": 4,
   "metadata": {},
   "outputs": [],
   "source": [
    "# creating a dict with length as a key \n",
    "# value - a list of tuples with id and cdr3 sequence\n",
    "cdr3 = {}\n",
    "for row in cdr.itertuples():\n",
    "    current_len = len(row.cdr3)\n",
    "    if current_len in cdr3:\n",
    "        cdr3[current_len].append((row.sequence_id, row.cdr3))\n",
    "    else:\n",
    "        cdr3[current_len] = [(row.sequence_id, row.cdr3)]"
   ]
  },
  {
   "cell_type": "code",
   "execution_count": 5,
   "metadata": {},
   "outputs": [],
   "source": [
    "def hamming_distance(seq1, seq2):\n",
    "    \"\"\"\n",
    "    This function calculates Hamming distance\n",
    "    Args:\n",
    "        seq1 (str): sequence string\n",
    "        seq2 (str): sequence string\n",
    "\n",
    "    Returns:\n",
    "        Calculated Hamming distance between seq1 and seq2\n",
    "    \"\"\"\n",
    "    return sum(c1 != c2 for c1, c2 in zip(seq1, seq2))"
   ]
  },
  {
   "cell_type": "code",
   "execution_count": 6,
   "metadata": {},
   "outputs": [],
   "source": [
    "# creating a graph\n",
    "graph = nx.Graph()\n",
    "\n",
    "# adding elements groupped by length\n",
    "for length, seqs in cdr3.items():\n",
    "    \n",
    "    # threshold depends on current length\n",
    "    threshold = length * 0.2\n",
    "    \n",
    "    for i in range(len(seqs)):\n",
    "        seq1 = seqs[i][1]\n",
    "        name1 = seqs[i][0]\n",
    "        \n",
    "        # from the next cdr3\n",
    "        for j in range(i + 1, len(seqs)):\n",
    "            seq2 = seqs[j][1]\n",
    "            name2 = seqs[j][0]\n",
    "            \n",
    "            # if HD is lower then the threshold\n",
    "            if hamming_distance(seq1, seq2) < threshold:\n",
    "                \n",
    "                # adding connection\n",
    "                graph.add_edge(name1, name2)"
   ]
  },
  {
   "cell_type": "code",
   "execution_count": 7,
   "metadata": {},
   "outputs": [],
   "source": [
    "# searching for connected components\n",
    "lineages = nx.algorithms.components.connected_components(graph)\n",
    "lineages = [[len(c), c] for c in sorted(lineages, key=len, reverse=True)]"
   ]
  },
  {
   "cell_type": "markdown",
   "metadata": {},
   "source": [
    "# 3"
   ]
  },
  {
   "cell_type": "code",
   "execution_count": 8,
   "metadata": {},
   "outputs": [
    {
     "name": "stdout",
     "output_type": "stream",
     "text": [
      "The number of clonal lineages: 432\n",
      "The number of sequences in the largest lineage: 584\n",
      "The number of clonal lineages presented by at least 10 sequences: 266\n"
     ]
    }
   ],
   "source": [
    "print(f'The number of clonal lineages: {len(lineages)}')\n",
    "print(f'The number of sequences in the largest lineage: {len(lineages[0][1])}')\n",
    "print(f'The number of clonal lineages presented by at least 10 sequences: {sum([lineage[0] >= 10 for lineage in lineages])}')"
   ]
  },
  {
   "cell_type": "markdown",
   "metadata": {},
   "source": [
    "# 4"
   ]
  },
  {
   "cell_type": "code",
   "execution_count": 9,
   "metadata": {},
   "outputs": [],
   "source": [
    "v_genes = []\n",
    "\n",
    "# adding v genes that are in components\n",
    "for lineage in lineages:\n",
    "    temp = cdr.loc[cdr.sequence_id.isin(lineage[1]), :].v_call\n",
    "    v_genes.extend(temp.unique())\n",
    "    \n",
    "cdr_v_usage = pd.DataFrame(v_genes, columns=['v_genes'])"
   ]
  },
  {
   "cell_type": "code",
   "execution_count": 10,
   "metadata": {},
   "outputs": [
    {
     "data": {
      "text/plain": [
       "Text(0, 0.5, 'Count')"
      ]
     },
     "execution_count": 10,
     "metadata": {},
     "output_type": "execute_result"
    },
    {
     "data": {
      "image/png": "[encoded data removed]",
      "text/plain": [
       "<Figure size 1440x720 with 1 Axes>"
      ]
     },
     "metadata": {
      "needs_background": "light"
     },
     "output_type": "display_data"
    }
   ],
   "source": [
    "plt.figure(figsize=(20, 10))\n",
    "plt.xticks(rotation=90)\n",
    "ax = sns.countplot(x='v_genes', data=cdr_v_usage, order=cdr_v_usage.v_genes.value_counts().index)\n",
    "ax.set_title('V usage plot')\n",
    "ax.set_xlabel('V genes')\n",
    "ax.set_ylabel('Count')"
   ]
  },
  {
   "cell_type": "markdown",
   "metadata": {},
   "source": [
    "# 5"
   ]
  },
  {
   "cell_type": "code",
   "execution_count": 11,
   "metadata": {},
   "outputs": [],
   "source": [
    "with open('weblogo.fasta', 'w') as f:\n",
    "    for i in lineages[0][1]:\n",
    "        f.write(f'>{i}\\n{cdr.loc[cdr.sequence_id == i].cdr3.values[0]}\\n')"
   ]
  },
  {
   "cell_type": "markdown",
   "metadata": {},
   "source": [
    "# 6"
   ]
  },
  {
   "cell_type": "code",
   "execution_count": 12,
   "metadata": {},
   "outputs": [],
   "source": [
    "ids = lineages[0][1]\n",
    "\n",
    "vdj_seqs = cdr.loc[cdr.sequence_id.isin(ids)][['sequence_id', 'sequence']]\n",
    "with open('tree_vdj.fasta', 'w') as f:\n",
    "    for row in vdj_seqs.itertuples():\n",
    "        f.write(f'>{row.sequence_id}\\n{row.sequence}\\n')"
   ]
  }
 ],
 "metadata": {
  "kernelspec": {
   "display_name": "Python 3",
   "language": "python",
   "name": "python3"
  },
  "language_info": {
   "codemirror_mode": {
    "name": "ipython",
    "version": 3
   },
   "file_extension": ".py",
   "mimetype": "text/x-python",
   "name": "python",
   "nbconvert_exporter": "python",
   "pygments_lexer": "ipython3",
   "version": "3.6.7"
  }
 },
 "nbformat": 4,
 "nbformat_minor": 4
}
